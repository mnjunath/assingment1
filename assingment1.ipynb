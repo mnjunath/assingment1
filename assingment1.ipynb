{
 "cells": [
  {
   "cell_type": "markdown",
   "id": "956b1525-8d65-4abb-953a-453c8a837c3f",
   "metadata": {},
   "source": [
    "1. In the below elements which of them are values or an expression? eg:- values can be\n",
    "integer or string and expressions will be mathematical operators.\n",
    "*\n",
    "&#39;hello&#39;\n",
    "-87.8\n",
    "-\n",
    "/\n",
    "+\n",
    "6"
   ]
  },
  {
   "cell_type": "code",
   "execution_count": 1,
   "id": "d2b8811c-2851-4f83-99c7-d19ff8b641c8",
   "metadata": {},
   "outputs": [
    {
     "data": {
      "text/plain": [
       "(6, -87.8, 'hello')"
      ]
     },
     "execution_count": 1,
     "metadata": {},
     "output_type": "execute_result"
    }
   ],
   "source": [
    "6,-87.8,'hello'"
   ]
  },
  {
   "cell_type": "markdown",
   "id": "25ec0e93-aefa-426c-894c-bc559258e5af",
   "metadata": {},
   "source": [
    "2. What is the difference between string and variable?"
   ]
  },
  {
   "cell_type": "markdown",
   "id": "edaff833-3fb5-475f-9578-079b2fb503d6",
   "metadata": {},
   "source": [
    "Variable:\n",
    "\n",
    "A variable is a symbolic name or identifier that represents a storage location in computer memory.\n",
    "It is used to store and manipulate data in a program.\n",
    "Variables can hold various types of data, including numbers, characters, and more complex data structures.\n",
    "The data stored in a variable can change during the execution of a program.\n",
    "\n",
    "String:\n",
    "\n",
    "A string is a data type used to represent text or a sequence of characters.\n",
    "It is a collection of characters enclosed within single (' '), double (\" \"), or triple (''' ''' or \"\"\" \"\"\") quotes.\n",
    "Strings are used for storing and manipulating textual data."
   ]
  },
  {
   "cell_type": "markdown",
   "id": "66899593-da59-43ca-a510-73988e7118f0",
   "metadata": {},
   "source": [
    "3. Describe three different data types."
   ]
  },
  {
   "cell_type": "markdown",
   "id": "3dcf517d-4afa-4596-9494-0cd9ea449d87",
   "metadata": {},
   "source": [
    "Integer (int):\n",
    "\n",
    "An integer is a data type that represents whole numbers without any decimal points.\n",
    "It can be either positive or negative, or zero.\n",
    "Examples of integers: -5, 0, 42.\n",
    "\n",
    "Floating-Point (float):\n",
    "\n",
    "A floating-point number (float) represents numbers that have a decimal point or are expressed in scientific notation.\n",
    "Floating-point numbers can represent a broader range of values than integers, but they may have precision limitations.\n",
    "Examples of floats: 3.14, -0.001, 2.5e-3 (scientific notation).\n",
    "\n",
    "String (str):\n",
    "\n",
    "A string is a data type used to represent textual information, such as words, sentences, or characters.\n",
    "Strings are enclosed in single (' '), double (\" \"), or triple (''' ''' or \"\"\" \"\"\") quotes.\n",
    "Examples of strings: \"Hello, World!\", 'Python', '12345'."
   ]
  },
  {
   "cell_type": "markdown",
   "id": "842a5dc0-b6f3-4493-b5f0-6d9e70b58228",
   "metadata": {},
   "source": [
    "4. What is an expression made up of? What do all expressions do?"
   ]
  },
  {
   "cell_type": "markdown",
   "id": "2503092c-6f28-4598-9c2f-c202283bd01b",
   "metadata": {},
   "source": [
    "An expression in programming is made up of one or more operands and operators. It represents a value or a computation involving values. The basic building blocks of expressions are:\n",
    "\n",
    "Operands:\n",
    "\n",
    "Operands are the values or variables involved in an expression.\n",
    "Examples of operands: variables (e.g., x, y), constants (e.g., 5, 3.14), or more complex expressions.\n",
    "Operators:\n",
    "\n",
    "Operators are symbols or keywords that perform operations on operands.\n",
    "Examples of operators: + (addition), - (subtraction), * (multiplication), / (division), == (equality), > (greater than), and many more.\n",
    "An expression can be as simple as a single constant or variable, or it can be a complex combination of multiple operands and operators. Expressions can also include function calls and other constructs, depending on the programming language.\n",
    "\n",
    "What expressions do:\n",
    "\n",
    "Compute a Value: The primary purpose of an expression is to compute a value. The combination of operands and operators results in a value.\n",
    "Assign Values: Expressions are often used in assignments to variables. For example, x = 2 + 3 assigns the value of the expression 2 + 3 to the variable x.\n",
    "Control Flow: Expressions are used in conditional statements and loops to control the flow of a program. For example, if x > 0: involves the expression x > 0 to determine whether a certain block of code should be executed."
   ]
  },
  {
   "cell_type": "markdown",
   "id": "f3a387ba-2e0c-4fb9-832e-57df6280920b",
   "metadata": {},
   "source": [
    "5. This assignment statements, like spam = 10. What is the difference between an\n",
    "expression and a statement?"
   ]
  },
  {
   "cell_type": "markdown",
   "id": "19469e01-4bc2-490d-804c-e2fb7bf9d3d8",
   "metadata": {},
   "source": [
    "An expression is a combination of values, variables, and operators that evaluates to a single value.\n",
    "A statement is a complete line of code that performs an action or operation. It is an executable unit that may or may not produce a value.\n",
    "In the example spam = 10, spam = 10 is a statement that includes an assignment expression (10), which assigns the value 10 to the variable spam. The statement as a whole is an action that changes the state of the program by assigning a value to a variable."
   ]
  },
  {
   "cell_type": "markdown",
   "id": "42f8c26b-8bcb-4fb1-b802-e75f24c73b65",
   "metadata": {},
   "source": [
    "6. After running the following code, what does the variable bacon contain?\n",
    "bacon = 22\n",
    "bacon + 1"
   ]
  },
  {
   "cell_type": "markdown",
   "id": "5348e04c-5e76-41e3-a78f-a680871ac81b",
   "metadata": {},
   "source": [
    "bacon = 23"
   ]
  },
  {
   "cell_type": "markdown",
   "id": "0525d87a-7453-43be-a5cf-02e43465a8ce",
   "metadata": {},
   "source": [
    "7. What should the values of the following two terms be?\n",
    "&#39;spam&#39; + &#39;spamspam&#39;\n",
    "&#39;spam&#39; * 3"
   ]
  },
  {
   "cell_type": "markdown",
   "id": "24425bcf-e251-47c0-a721-723e35d39dd3",
   "metadata": {},
   "source": [
    "spamspamspam"
   ]
  },
  {
   "cell_type": "markdown",
   "id": "d010cf35-ecd6-47eb-808a-9a9de67a36ff",
   "metadata": {},
   "source": [
    "8. Why is eggs a valid variable name while 100 is invalid?"
   ]
  },
  {
   "cell_type": "markdown",
   "id": "58cd994b-e083-495b-b1f8-2020b200df5c",
   "metadata": {},
   "source": [
    "Must Start with a Letter or Underscore (_): Variable names must begin with a letter (a-z, A-Z) or an underscore (_).\n",
    "\n",
    "Can Contain Letters, Digits, and Underscores: Following the initial character, variable names can contain letters, digits (0-9), and underscores.\n",
    "\n",
    "Cannot Start with a Digit: Variable names cannot begin with a digit (0-9). This is why eggs is a valid variable name as it starts with a letter, but 100 is invalid because it starts with a digit.\n",
    "\n",
    "No Spaces or Special Characters (Except Underscore): Variable names typically cannot contain spaces or special characters (except for the underscore). For example, my_variable is valid, but my variable is not."
   ]
  },
  {
   "cell_type": "markdown",
   "id": "a9e20d79-381d-41af-8e73-6a36fbbee8e8",
   "metadata": {},
   "source": [
    "9. What three functions can be used to get the integer, floating-point number, or string\n",
    "version of a value?"
   ]
  },
  {
   "cell_type": "markdown",
   "id": "e74707a6-69a0-4843-acec-83f5bdf379a5",
   "metadata": {},
   "source": [
    "int(), float(), str()"
   ]
  },
  {
   "cell_type": "markdown",
   "id": "0610b383-c2ac-4368-8190-9f536e41f2ea",
   "metadata": {},
   "source": [
    "10. Why does this expression cause an error? How can you fix it?\n",
    "&#39;I have eaten &#39; + 99 + &#39; burritos.&#39;"
   ]
  },
  {
   "cell_type": "markdown",
   "id": "3f80e100-7639-49cd-807b-09d9c87f85e9",
   "metadata": {},
   "source": [
    "The expression you provided may cause an error because you are trying to concatenate a string with a number without explicitly converting the number to a string. In some programming languages, this can lead to type mismatch errors.\n",
    "\n",
    "To fix it, you need to convert the number to a string before concatenating. Depending on the programming language you're using, here are a couple of ways to fix it:\n",
    "\n",
    "python\n",
    "\n",
    "'I have eaten ' + str(99) + ' burritos.'\n",
    "\n",
    "In both cases, converting the number to a string allows it to be concatenated with the surrounding strings without causing a type mismatch error."
   ]
  },
  {
   "cell_type": "code",
   "execution_count": null,
   "id": "fc27fd03-af5a-47f4-bc8e-4617b3b5293b",
   "metadata": {},
   "outputs": [],
   "source": []
  }
 ],
 "metadata": {
  "kernelspec": {
   "display_name": "Python 3 (ipykernel)",
   "language": "python",
   "name": "python3"
  },
  "language_info": {
   "codemirror_mode": {
    "name": "ipython",
    "version": 3
   },
   "file_extension": ".py",
   "mimetype": "text/x-python",
   "name": "python",
   "nbconvert_exporter": "python",
   "pygments_lexer": "ipython3",
   "version": "3.10.6"
  }
 },
 "nbformat": 4,
 "nbformat_minor": 5
}
